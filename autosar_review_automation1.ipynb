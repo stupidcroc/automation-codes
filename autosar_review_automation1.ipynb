{
 "cells": [
  {
   "cell_type": "code",
   "execution_count": 1,
   "metadata": {},
   "outputs": [],
   "source": [
    "from bs4 import BeautifulSoup\n",
    "handler = open('EPS_NvM_ecuc.arxml').read()\n",
    "soup = BeautifulSoup(handler, 'html.parser')\n",
    "ecuc = soup.find_all('ecuc-container-value')\n",
    "short_names = []\n",
    "#for x in ecuc:\n",
    " #   short_names.append(x.find_all('short-name'))\n",
    "#for y in \n",
    "d = {}\n",
    "d[0] = ['NvMRamBlockDataAddress', 'NvMNvBlockLength']\n",
    "ram = []\n",
    "blockl = []\n",
    "for definition in soup.select('definition-ref:has(~ value)'):\n",
    "    if definition.get_text(strip=True) == '/MICROSAR/NvM/NvMBlockDescriptor/NvMRamBlockDataAddress':\n",
    "        ram.append(definition.find_next('value').text)\n",
    "    if definition.get_text(strip=True) == '/MICROSAR/NvM/NvMBlockDescriptor/NvMNvBlockLength':\n",
    "        blockl.append(definition.find_next('value').text)\n",
    "for i in range(1, len(ram)):\n",
    "    d[i] = [ram[i], blockl[i]]"
   ]
  },
  {
   "cell_type": "code",
   "execution_count": 3,
   "metadata": {},
   "outputs": [],
   "source": [
    "import pandas as pd\n",
    "df = pd.DataFrame(d).T\n",
    "df.to_csv('stuff1.csv')"
   ]
  }
 ],
 "metadata": {
  "kernelspec": {
   "display_name": "Python 3",
   "language": "python",
   "name": "python3"
  },
  "language_info": {
   "codemirror_mode": {
    "name": "ipython",
    "version": 3
   },
   "file_extension": ".py",
   "mimetype": "text/x-python",
   "name": "python",
   "nbconvert_exporter": "python",
   "pygments_lexer": "ipython3",
   "version": "3.8.5"
  }
 },
 "nbformat": 4,
 "nbformat_minor": 4
}
